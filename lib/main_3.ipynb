{
 "cells": [
  {
   "cell_type": "code",
   "execution_count": 183,
   "metadata": {},
   "outputs": [],
   "source": [
    "# Import libraries\n",
    "import tensorflow as tf\n",
    "import numpy as np\n",
    "import matplotlib.pyplot as plt\n",
    "%matplotlib inline\n",
    "import aux_functions as aux"
   ]
  },
  {
   "cell_type": "code",
   "execution_count": 184,
   "metadata": {},
   "outputs": [
    {
     "name": "stdout",
     "output_type": "stream",
     "text": [
      "Letter Data Dimensions\n",
      "train_data\n",
      "(6000, 64)\n",
      "train_labels\n",
      "(6000,)\n",
      "test\n",
      "(1200, 64)\n",
      "test_labels\n",
      "(1200,)\n"
     ]
    }
   ],
   "source": [
    "train_data, train_labels, test_data, test_labels = aux.generateLetterData(10000, 1200)\n",
    "\n",
    "print(\"Letter Data Dimensions\")\n",
    "print(\"train_data\")\n",
    "print(train_data.shape)\n",
    "print(\"train_labels\")\n",
    "print(train_labels.shape)\n",
    "print(\"test\")\n",
    "print(test_data.shape)\n",
    "print(\"test_labels\")\n",
    "print(test_labels.shape)\n",
    "\n",
    "def compute_logits(x):\n",
    "    \"\"\"Compute the logits of the model\"\"\"    \n",
    "    hidden_nodes = 2\n",
    "    \n",
    "    W1 = tf.get_variable('W1', shape=[8 * 8, hidden_nodes])\n",
    "    #b1 = tf.get_variable('b1', shape=[2])\n",
    "    h1 = tf.matmul(x , W1, name='h1')\n",
    "    \n",
    "    W2 = tf.get_variable('W2', shape=[hidden_nodes, 3])\n",
    "    b2 = tf.get_variable('b2', shape=[3]) \n",
    "    logits = tf.nn.softmax(tf.add(tf.matmul(h1 , W2), b2, name='logits'))\n",
    "    \n",
    "    #logits = tf.nn.relu(tf.matmul(x, W), name='logits')\n",
    "    return logits, W1\n",
    "\n",
    "# Note: this function is implemented in tensorflow as\n",
    "# tf.nn.softmax_cross_entropy_with_logits\n",
    "\n",
    "# We have included it here for illustration only, please don't use it.\n",
    "def compute_cross_entropy(logits, y):\n",
    "    y_pred = tf.nn.softmax(logits, name='y_pred') # the predicted probability for each example.\n",
    "\n",
    "    # Compute the average cross-entropy across all the examples.\n",
    "    cross_entropy = tf.reduce_mean(-tf.reduce_sum(y * tf.log(y_pred), axis=[1]))\n",
    "    return cross_entropy\n",
    "\n",
    "def compute_accuracy(logits, y):\n",
    "    prediction = tf.argmax(logits, 1, name='pred_class')\n",
    "    true_label = tf.argmax(y, 1, name='true_class')\n",
    "    accuracy = tf.reduce_mean(tf.cast(tf.equal(prediction, true_label), tf.float32))\n",
    "    return accuracy"
   ]
  },
  {
   "cell_type": "code",
   "execution_count": 185,
   "metadata": {},
   "outputs": [
    {
     "name": "stdout",
     "output_type": "stream",
     "text": [
      "Step 1: accuracy is 0.20283333957195282\n",
      "Step 11: accuracy is 0.3333333432674408\n",
      "Step 21: accuracy is 0.3684999942779541\n",
      "Step 31: accuracy is 0.5023333430290222\n",
      "Step 41: accuracy is 0.637333333492279\n",
      "Step 51: accuracy is 0.6610000133514404\n",
      "Step 61: accuracy is 0.6654999852180481\n",
      "Step 71: accuracy is 0.6661666631698608\n",
      "Step 81: accuracy is 0.6666666865348816\n",
      "Step 91: accuracy is 0.6666666865348816\n",
      "Step 101: accuracy is 0.6666666865348816\n",
      "Step 111: accuracy is 0.6666666865348816\n",
      "Step 121: accuracy is 0.6666666865348816\n",
      "Step 131: accuracy is 0.6666666865348816\n",
      "Step 141: accuracy is 0.6666666865348816\n"
     ]
    }
   ],
   "source": [
    "with tf.Graph().as_default():\n",
    "    # We build the model here as before\n",
    "    x = tf.placeholder(tf.float32, [None, 64], name='x')\n",
    "    y = tf.placeholder(tf.float32, [None, 3], name='y')\n",
    "    \n",
    "    logits, W1 = compute_logits(x)\n",
    "    loss = compute_cross_entropy(logits=logits, y=y)\n",
    "    accuracy = compute_accuracy(logits, y)\n",
    "    onehot_labels = tf.one_hot(indices = tf.cast(train_labels, tf.int32), depth=3)\n",
    "    \n",
    "    opt = tf.train.AdamOptimizer(0.01)\n",
    "    train_step = opt.minimize(loss)\n",
    "    \n",
    "    # Let's put the summaries below\n",
    "    \n",
    "    # create summary for loss and accuracy\n",
    "    tf.summary.scalar('loss', loss) \n",
    "    tf.summary.scalar('accuracy', accuracy)\n",
    "    \n",
    "    # create summary for logits\n",
    "    tf.summary.histogram('logits', logits)\n",
    "    \n",
    "    # create summary for input image\n",
    "    tf.summary.image('input', tf.reshape(x, [-1, 8, 8, 1]))\n",
    "    \n",
    "    summary_op = tf.summary.merge_all()\n",
    "    \n",
    "    with tf.Session() as sess:\n",
    "        summary_writer = tf.summary.FileWriter('logs/example1', sess.graph)\n",
    "        \n",
    "        sess.run(tf.global_variables_initializer())\n",
    "    \n",
    "        for i in range(101):\n",
    "            lab = sess.run(onehot_labels)\n",
    "            _, ac, summary = sess.run((train_step, accuracy, summary_op),\n",
    "                                      feed_dict={x: train_data, y: lab})\n",
    "            \n",
    "            \n",
    "            # write the summary output to file\n",
    "            summary_writer.add_summary(summary, i)\n",
    "\n",
    "            if i % 10 == 0:\n",
    "                print('Step {0}: accuracy is {1}'.format(i + 1, ac))\n",
    "        \n",
    "        weight1 = tf.reshape(W1[:,0], [8, 8])\n",
    "        weight1 = weight1.eval()\n",
    "        \n",
    "        weight2 = tf.reshape(W1[:,1], [8, 8])\n",
    "        weight2 = weight2.eval()"
   ]
  },
  {
   "cell_type": "code",
   "execution_count": 186,
   "metadata": {},
   "outputs": [
    {
     "data": {
      "image/png": "[encoded data removed]",
      "text/plain": [
       "<matplotlib.figure.Figure at 0x22187bc0898>"
      ]
     },
     "metadata": {},
     "output_type": "display_data"
    }
   ],
   "source": [
    "plt.imshow(np.array(weight1), cmap='gray')\n",
    "plt.show()"
   ]
  },
  {
   "cell_type": "code",
   "execution_count": 187,
   "metadata": {},
   "outputs": [
    {
     "data": {
      "image/png": "[encoded data removed]",
      "text/plain": [
       "<matplotlib.figure.Figure at 0x221875af3c8>"
      ]
     },
     "metadata": {},
     "output_type": "display_data"
    }
   ],
   "source": [
    "plt.imshow(np.array(weight2), cmap='gray')\n",
    "plt.show()"
   ]
  }
 ],
 "metadata": {
  "kernelspec": {
   "display_name": "Python 3",
   "language": "python",
   "name": "python3"
  },
  "language_info": {
   "codemirror_mode": {
    "name": "ipython",
    "version": 3
   },
   "file_extension": ".py",
   "mimetype": "text/x-python",
   "name": "python",
   "nbconvert_exporter": "python",
   "pygments_lexer": "ipython3",
   "version": "3.6.3"
  }
 },
 "nbformat": 4,
 "nbformat_minor": 2
}
