{
 "cells": [
  {
   "cell_type": "code",
   "execution_count": 1,
   "metadata": {
    "collapsed": true
   },
   "outputs": [],
   "source": [
    "import tensorflow as tf\n",
    "import numpy as np\n",
    "import matplotlib.pyplot as plt\n",
    "%matplotlib inline"
   ]
  },
  {
   "cell_type": "code",
   "execution_count": 139,
   "metadata": {
    "collapsed": true
   },
   "outputs": [],
   "source": [
    "def create_letter(a, add_noise = False):\n",
    "    if a == 'e':\n",
    "        aux = [10,11,12,13,18,26,27,28,29,34,42,50,51,52,53]\n",
    "    if a == 'l':\n",
    "        aux = [10,18,26,34,42,50,51,52,53]\n",
    "    if a == 'f':\n",
    "        aux = [10,11,12,13,18,26,27,28,29,34,42,50,]\n",
    "        \n",
    "    letter = np.zeros((8*8))\n",
    "    letter = letter + 1\n",
    "    letter[aux] = 0\n",
    "    \n",
    "    if add_noise == True:\n",
    "        letter = np.add(letter, -np.random.normal(scale = 0.2, size = 64))\n",
    "        #letter[letter < 0] = 0 \n",
    "    \n",
    "    return letter"
   ]
  },
  {
   "cell_type": "code",
   "execution_count": 142,
   "metadata": {},
   "outputs": [
    {
     "name": "stdout",
     "output_type": "stream",
     "text": [
      "[ 0.72115172  0.95465008  0.7761563   1.06756224  0.90954278  1.23793986\n",
      "  0.75596599  0.84828018  1.18590065  1.04364473  0.36939422  0.00910378\n",
      " -0.17891602 -0.26551626  1.1908265   1.04972548  1.42592449  0.96831669\n",
      "  0.47513716  0.75648364  0.90671495  1.07275957  0.889463    1.02405729\n",
      "  1.12308997  1.73860042  0.03721517  0.16735621 -0.15133235  0.04213793\n",
      "  0.80170149  0.94958933  1.12859007  1.09076554 -0.19100058  0.75820736\n",
      "  0.69423296  1.18778035  1.25034113  0.8438091   0.94112871  0.97353261\n",
      "  0.34051403  0.90237682  1.11669182  1.00526424  1.19920876  1.15251008\n",
      "  1.4981662   0.4861587  -0.29155139  1.14423757  0.98186207  0.89951118\n",
      "  1.13158582  0.92386464  1.27752688  1.11694751  1.2515381   1.34256032\n",
      "  1.02697621  0.96235811  1.02515597  1.05015583]\n"
     ]
    }
   ],
   "source": [
    "lss = create_letter('f', add_noise = True)\n",
    "print(lss)"
   ]
  },
  {
   "cell_type": "code",
   "execution_count": 143,
   "metadata": {},
   "outputs": [
    {
     "name": "stdout",
     "output_type": "stream",
     "text": [
      "(64,)\n"
     ]
    },
    {
     "data": {
      "image/png": "[encoded data removed]",
      "text/plain": [
       "<matplotlib.figure.Figure at 0x2699b390c18>"
      ]
     },
     "metadata": {},
     "output_type": "display_data"
    }
   ],
   "source": [
    "print(lss.shape)\n",
    "plt.imshow(lss.reshape(8,8), cmap='gray')\n",
    "plt.show()"
   ]
  }
 ],
 "metadata": {
  "kernelspec": {
   "display_name": "Python 3",
   "language": "python",
   "name": "python3"
  },
  "language_info": {
   "codemirror_mode": {
    "name": "ipython",
    "version": 3
   },
   "file_extension": ".py",
   "mimetype": "text/x-python",
   "name": "python",
   "nbconvert_exporter": "python",
   "pygments_lexer": "ipython3",
   "version": "3.6.2"
  }
 },
 "nbformat": 4,
 "nbformat_minor": 2
}
